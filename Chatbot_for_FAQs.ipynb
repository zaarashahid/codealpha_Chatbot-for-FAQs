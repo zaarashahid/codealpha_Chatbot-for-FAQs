{
  "nbformat": 4,
  "nbformat_minor": 0,
  "metadata": {
    "colab": {
      "provenance": []
    },
    "kernelspec": {
      "name": "python3",
      "display_name": "Python 3"
    },
    "language_info": {
      "name": "python"
    }
  },
  "cells": [
    {
      "cell_type": "code",
      "execution_count": null,
      "metadata": {
        "id": "lIBgaJmX4Y5G"
      },
      "outputs": [],
      "source": [
        "# Install dependencies\n",
        "!pip install nltk scikit-learn ipywidgets\n",
        "\n",
        "import nltk\n",
        "import ipywidgets as widgets\n",
        "from sklearn.feature_extraction.text import TfidfVectorizer\n",
        "from sklearn.metrics.pairwise import cosine_similarity\n",
        "from IPython.display import display, clear_output\n",
        "\n",
        "nltk.download('punkt')\n",
        "\n",
        "# ----------------------\n",
        "# Step 1: FAQ Dataset\n",
        "# ----------------------\n",
        "faqs = {\n",
        "    \"What is your return policy?\": \"Our return policy allows returns within 30 days of purchase with a receipt.\",\n",
        "    \"How can I track my order?\": \"You can track your order using the tracking number sent to your email.\",\n",
        "    \"Do you offer international shipping?\": \"Yes, we ship to most countries worldwide.\",\n",
        "    \"How do I reset my password?\": \"Click on 'Forgot Password' at login and follow the instructions.\",\n",
        "    \"What payment methods do you accept?\": \"We accept credit cards, debit cards, and PayPal.\",\n",
        "    \"Can I cancel my order?\": \"Yes, orders can be canceled within 24 hours of placing them.\",\n",
        "    \"Do you have a physical store?\": \"Currently, we are an online-only store.\",\n",
        "}\n",
        "\n",
        "questions = list(faqs.keys())\n",
        "answers = list(faqs.values())\n",
        "\n",
        "# ----------------------\n",
        "# Step 2: Vectorize FAQs\n",
        "# ----------------------\n",
        "vectorizer = TfidfVectorizer()\n",
        "X = vectorizer.fit_transform(questions)\n",
        "\n",
        "# ----------------------\n",
        "# Step 3: Chatbot Function\n",
        "# ----------------------\n",
        "def get_response(user_query):\n",
        "    user_vec = vectorizer.transform([user_query])\n",
        "    similarity = cosine_similarity(user_vec, X)\n",
        "    idx = similarity.argmax()\n",
        "    return answers[idx]\n",
        "\n",
        "# ----------------------\n",
        "# Step 4: Simple Chat UI\n",
        "# ----------------------\n",
        "chat_history = widgets.Output(layout={\"border\": \"1px solid gray\", \"padding\": \"10px\", \"height\": \"250px\", \"overflow\": \"auto\"})\n",
        "user_input = widgets.Text(placeholder=\"Type your question here...\", layout=widgets.Layout(width=\"100%\"))\n",
        "send_button = widgets.Button(description=\"Send\", button_style=\"success\")\n",
        "\n",
        "# Chat handling\n",
        "def handle_chat(_):\n",
        "    query = user_input.value.strip()\n",
        "    if query:\n",
        "        with chat_history:\n",
        "            print(\"You:\", query)\n",
        "            response = get_response(query)\n",
        "            print(\"Bot:\", response, \"\\n\")\n",
        "    user_input.value = \"\"\n",
        "\n",
        "send_button.on_click(handle_chat)\n",
        "\n",
        "# Display chatbot UI\n",
        "display(widgets.VBox([\n",
        "    chat_history,\n",
        "    widgets.HBox([user_input, send_button])\n",
        "]))"
      ]
    }
  ]
}